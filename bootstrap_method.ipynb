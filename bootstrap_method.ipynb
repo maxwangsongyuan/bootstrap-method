{
  "nbformat": 4,
  "nbformat_minor": 0,
  "metadata": {
    "colab": {
      "name": "bootstrap method",
      "provenance": [],
      "collapsed_sections": [],
      "authorship_tag": "ABX9TyN6JDx6TicKYKIuVyBiL9S1",
      "include_colab_link": true
    },
    "kernelspec": {
      "name": "python3",
      "display_name": "Python 3"
    },
    "language_info": {
      "name": "python"
    }
  },
  "cells": [
    {
      "cell_type": "markdown",
      "metadata": {
        "id": "view-in-github",
        "colab_type": "text"
      },
      "source": [
        "<a href=\"https://colab.research.google.com/github/wangsongyuan98/bootstrap-method/blob/main/bootstrap_method.ipynb\" target=\"_parent\"><img src=\"https://colab.research.google.com/assets/colab-badge.svg\" alt=\"Open In Colab\"/></a>"
      ]
    },
    {
      "cell_type": "code",
      "metadata": {
        "colab": {
          "base_uri": "https://localhost:8080/"
        },
        "id": "FJwXei_PSLM1",
        "outputId": "77dd5374-1ec8-4b6d-efac-40e009f7dd08"
      },
      "source": [
        "import numpy as np\n",
        "import random\n",
        " \n",
        "x = np.random.normal(loc= 300.0, size=1000)\n",
        "print(np.mean(x))\n",
        "\n",
        "\n",
        " \n",
        "sample_mean = []\n",
        "for i in range(50):\n",
        "  y = random.sample(x.tolist(), 8)\n",
        "  # print(y)\n",
        "  avg = np.mean(y)\n",
        "  sample_mean.append(avg)\n",
        " \n",
        "print(np.mean(sample_mean))"
      ],
      "execution_count": null,
      "outputs": [
        {
          "output_type": "stream",
          "name": "stdout",
          "text": [
            "299.9582972104921\n",
            "299.9095508792616\n"
          ]
        }
      ]
    }
  ]
}